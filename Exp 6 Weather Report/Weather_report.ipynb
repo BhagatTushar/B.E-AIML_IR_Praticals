{
 "cells": [
  {
   "cell_type": "code",
   "execution_count": null,
   "id": "29e8353a-bda4-499c-a934-469e9f58d8dc",
   "metadata": {},
   "outputs": [],
   "source": [
    "import requests\n",
    "\n",
    "def get_weather(city, api_key):\n",
    "    # OpenWeatherMap API URL\n",
    "    url = f\"http://api.openweathermap.org/data/2.5/weather?q={city}&appid={api_key}&units=metric\"\n",
    "\n",
    "    try:\n",
    "        # Make a GET request to the API\n",
    "        response = requests.get(url)\n",
    "        response.raise_for_status()  # Raise an error for bad responses\n",
    "        \n",
    "        # Parse the JSON response\n",
    "        data = response.json()\n",
    "\n",
    "        # Extracting relevant information\n",
    "        temperature = data['main']['temp']\n",
    "        wind_speed = data['wind']['speed']\n",
    "        weather_description = data['weather'][0]['description']\n",
    "        \n",
    "        # Display the weather report\n",
    "        print(f\"Weather in {city}:\")\n",
    "        print(f\"Temperature: {temperature}°C\")\n",
    "        print(f\"Wind Speed: {wind_speed} m/s\")\n",
    "        print(f\"Weather: {weather_description}\")\n",
    "\n",
    "    except requests.exceptions.HTTPError as http_err:\n",
    "        print(f\"HTTP error occurred: {http_err}\")  # e.g. 403 Forbidden\n",
    "    except requests.exceptions.RequestException as req_err:\n",
    "        print(f\"Request error occurred: {req_err}\")\n",
    "    except KeyError:\n",
    "        print(\"Could not retrieve weather data. Please check the city name.\")\n",
    "\n",
    "# Example usage\n",
    "if __name__ == \"__main__\":\n",
    "    city_name = input(\"Enter the city name: \")\n",
    "    api_key = \"12010b0a8fc6717271fb49c06b08f414\"  # Replace with your actual API key\n",
    "    get_weather(city_name, api_key)\n"
   ]
  }
 ],
 "metadata": {
  "kernelspec": {
   "display_name": "Python 3 (ipykernel)",
   "language": "python",
   "name": "python3"
  },
  "language_info": {
   "codemirror_mode": {
    "name": "ipython",
    "version": 3
   },
   "file_extension": ".py",
   "mimetype": "text/x-python",
   "name": "python",
   "nbconvert_exporter": "python",
   "pygments_lexer": "ipython3",
   "version": "3.10.2"
  }
 },
 "nbformat": 4,
 "nbformat_minor": 5
}
