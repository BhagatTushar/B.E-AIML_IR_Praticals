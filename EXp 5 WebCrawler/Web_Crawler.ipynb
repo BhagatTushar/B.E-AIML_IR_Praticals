{
 "cells": [
  {
   "cell_type": "markdown",
   "id": "9d3d8ed9-36ec-4229-89f1-5c8df6c372c0",
   "metadata": {},
   "source": [
    "<div style=\"border-radius:10px; padding: 15px; background-color: yellow; font-size:130%; text-align:left\">\n",
    "\n",
    "<h2 align=\"left\"><font color=black>Build the web crawler to pull product information and links from an e-commerce website. (Python)</font></h2>\n",
    "<h4 align=\"right\"><font color=black>-Tushar Bhagat Roll_No. 07</font></h4>"
   ]
  },
  {
   "cell_type": "code",
   "execution_count": 13,
   "id": "8b453823-0439-432b-8941-ed1d0cb095ba",
   "metadata": {},
   "outputs": [
    {
     "name": "stdout",
     "output_type": "stream",
     "text": [
      "Requirement already satisfied: requests in c:\\users\\tmbha\\appdata\\local\\programs\\python\\python310\\lib\\site-packages (2.31.0)\n",
      "Requirement already satisfied: beautifulsoup4 in c:\\users\\tmbha\\appdata\\local\\programs\\python\\python310\\lib\\site-packages (4.12.3)\n",
      "Requirement already satisfied: charset-normalizer<4,>=2 in c:\\users\\tmbha\\appdata\\local\\programs\\python\\python310\\lib\\site-packages (from requests) (3.3.2)\n",
      "Requirement already satisfied: idna<4,>=2.5 in c:\\users\\tmbha\\appdata\\local\\programs\\python\\python310\\lib\\site-packages (from requests) (3.7)\n",
      "Requirement already satisfied: urllib3<3,>=1.21.1 in c:\\users\\tmbha\\appdata\\local\\programs\\python\\python310\\lib\\site-packages (from requests) (2.2.1)\n",
      "Requirement already satisfied: certifi>=2017.4.17 in c:\\users\\tmbha\\appdata\\local\\programs\\python\\python310\\lib\\site-packages (from requests) (2024.2.2)\n",
      "Requirement already satisfied: soupsieve>1.2 in c:\\users\\tmbha\\appdata\\local\\programs\\python\\python310\\lib\\site-packages (from beautifulsoup4) (2.5)\n",
      "Note: you may need to restart the kernel to use updated packages.\n"
     ]
    }
   ],
   "source": [
    "pip install requests beautifulsoup4\n"
   ]
  },
  {
   "cell_type": "code",
   "execution_count": 24,
   "id": "a34cb936-8af2-4acf-8296-ae5c21b61e05",
   "metadata": {},
   "outputs": [
    {
     "name": "stdout",
     "output_type": "stream",
     "text": [
      "Title: A Light in the Attic, Price: Â£51.77, Link: http://books.toscrape.com/catalogue/a-light-in-the-attic_1000/index.html\n",
      "Title: Tipping the Velvet, Price: Â£53.74, Link: http://books.toscrape.com/catalogue/tipping-the-velvet_999/index.html\n",
      "Title: Soumission, Price: Â£50.10, Link: http://books.toscrape.com/catalogue/soumission_998/index.html\n",
      "Title: Sharp Objects, Price: Â£47.82, Link: http://books.toscrape.com/catalogue/sharp-objects_997/index.html\n",
      "Title: Sapiens: A Brief History of Humankind, Price: Â£54.23, Link: http://books.toscrape.com/catalogue/sapiens-a-brief-history-of-humankind_996/index.html\n",
      "Title: The Requiem Red, Price: Â£22.65, Link: http://books.toscrape.com/catalogue/the-requiem-red_995/index.html\n",
      "Title: The Dirty Little Secrets of Getting Your Dream Job, Price: Â£33.34, Link: http://books.toscrape.com/catalogue/the-dirty-little-secrets-of-getting-your-dream-job_994/index.html\n",
      "Title: The Coming Woman: A Novel Based on the Life of the Infamous Feminist, Victoria Woodhull, Price: Â£17.93, Link: http://books.toscrape.com/catalogue/the-coming-woman-a-novel-based-on-the-life-of-the-infamous-feminist-victoria-woodhull_993/index.html\n",
      "Title: The Boys in the Boat: Nine Americans and Their Epic Quest for Gold at the 1936 Berlin Olympics, Price: Â£22.60, Link: http://books.toscrape.com/catalogue/the-boys-in-the-boat-nine-americans-and-their-epic-quest-for-gold-at-the-1936-berlin-olympics_992/index.html\n",
      "Title: The Black Maria, Price: Â£52.15, Link: http://books.toscrape.com/catalogue/the-black-maria_991/index.html\n",
      "Title: Starving Hearts (Triangular Trade Trilogy, #1), Price: Â£13.99, Link: http://books.toscrape.com/catalogue/starving-hearts-triangular-trade-trilogy-1_990/index.html\n",
      "Title: Shakespeare's Sonnets, Price: Â£20.66, Link: http://books.toscrape.com/catalogue/shakespeares-sonnets_989/index.html\n",
      "Title: Set Me Free, Price: Â£17.46, Link: http://books.toscrape.com/catalogue/set-me-free_988/index.html\n",
      "Title: Scott Pilgrim's Precious Little Life (Scott Pilgrim #1), Price: Â£52.29, Link: http://books.toscrape.com/catalogue/scott-pilgrims-precious-little-life-scott-pilgrim-1_987/index.html\n",
      "Title: Rip it Up and Start Again, Price: Â£35.02, Link: http://books.toscrape.com/catalogue/rip-it-up-and-start-again_986/index.html\n",
      "Title: Our Band Could Be Your Life: Scenes from the American Indie Underground, 1981-1991, Price: Â£57.25, Link: http://books.toscrape.com/catalogue/our-band-could-be-your-life-scenes-from-the-american-indie-underground-1981-1991_985/index.html\n",
      "Title: Olio, Price: Â£23.88, Link: http://books.toscrape.com/catalogue/olio_984/index.html\n",
      "Title: Mesaerion: The Best Science Fiction Stories 1800-1849, Price: Â£37.59, Link: http://books.toscrape.com/catalogue/mesaerion-the-best-science-fiction-stories-1800-1849_983/index.html\n",
      "Title: Libertarianism for Beginners, Price: Â£51.33, Link: http://books.toscrape.com/catalogue/libertarianism-for-beginners_982/index.html\n",
      "Title: It's Only the Himalayas, Price: Â£45.17, Link: http://books.toscrape.com/catalogue/its-only-the-himalayas_981/index.html\n"
     ]
    }
   ],
   "source": [
    "import requests\n",
    "from bs4 import BeautifulSoup\n",
    "\n",
    "# Function to fetch product information from the webpage\n",
    "def fetch_books(url):\n",
    "    try:\n",
    "        # Send a GET request to the URL\n",
    "        response = requests.get(url)\n",
    "        response.raise_for_status()  # Raise an error for bad responses\n",
    "\n",
    "        # Parse the webpage content\n",
    "        soup = BeautifulSoup(response.text, 'html.parser')\n",
    "\n",
    "        # Find product listings\n",
    "        products = soup.find_all('article', class_='product_pod')\n",
    "\n",
    "        book_info = []\n",
    "\n",
    "        # Loop through the products and extract information\n",
    "        for product in products:\n",
    "            title = product.h3.a['title']  # Book title\n",
    "            price = product.find('p', class_='price_color').text  # Book price\n",
    "            link = 'http://books.toscrape.com/catalogue/' + product.h3.a['href'].replace('../../../', '')  # Full link\n",
    "\n",
    "            book_info.append({\n",
    "                'title': title,\n",
    "                'price': price,\n",
    "                'link': link\n",
    "            })\n",
    "\n",
    "        return book_info\n",
    "\n",
    "    except requests.exceptions.RequestException as e:\n",
    "        print(f\"An error occurred: {e}\")\n",
    "        return []\n",
    "\n",
    "# Example usage\n",
    "url = 'http://books.toscrape.com/catalogue/page-1.html'\n",
    "books = fetch_books(url)\n",
    "\n",
    "# Display the fetched book information\n",
    "if books:\n",
    "    for book in books:\n",
    "        print(f\"Title: {book['title']}, Price: {book['price']}, Link: {book['link']}\")\n",
    "else:\n",
    "    print(\"No books found.\")\n"
   ]
  }
 ],
 "metadata": {
  "kernelspec": {
   "display_name": "Python 3 (ipykernel)",
   "language": "python",
   "name": "python3"
  },
  "language_info": {
   "codemirror_mode": {
    "name": "ipython",
    "version": 3
   },
   "file_extension": ".py",
   "mimetype": "text/x-python",
   "name": "python",
   "nbconvert_exporter": "python",
   "pygments_lexer": "ipython3",
   "version": "3.10.2"
  }
 },
 "nbformat": 4,
 "nbformat_minor": 5
}
